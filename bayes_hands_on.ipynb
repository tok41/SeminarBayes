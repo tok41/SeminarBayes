{
 "cells": [
  {
   "cell_type": "markdown",
   "metadata": {
    "toc-hr-collapsed": true
   },
   "source": [
    "# 実務で活かしたい人のための実践的ベイズ統計モデリングハンズオン\n",
    "\n",
    "- ベイズ統計モデリングをビジネスに生かすにはという視点で、ハンズオンをベースに解説していきます\n",
    "- 具体的な事例として、広告や口コミ評価などの効果比較を扱います\n",
    "- 広告が題材ではありますが、データ数にバラツキがあったり、データ数が少ない場合の比較や予測に応用できます\n"
   ]
  },
  {
   "cell_type": "code",
   "execution_count": null,
   "metadata": {},
   "outputs": [],
   "source": [
    "# ライブラリのインポート\n",
    "import sys, os\n",
    "import numpy as np\n",
    "import pandas as pd\n",
    "import scipy.stats as stats\n",
    "import math\n",
    "import pymc3 as pm\n",
    "\n",
    "import matplotlib.pyplot as plt\n",
    "import seaborn as sns\n",
    "%matplotlib inline"
   ]
  },
  {
   "cell_type": "code",
   "execution_count": null,
   "metadata": {},
   "outputs": [],
   "source": [
    "# プロットする図を綺麗にする\n",
    "sns.set()"
   ]
  },
  {
   "cell_type": "markdown",
   "metadata": {},
   "source": [
    "## ハンズオンアジェンダ\n",
    "- [広告効果の単純比較](#広告効果の単純比較)\n",
    "- [ベイズ推定による広告効果の比較](#ベイズ推定による広告効果の比較)\n",
    "- [ベイズ的A/Bテスト](#ベイズ的A/Bテスト)"
   ]
  },
  {
   "cell_type": "markdown",
   "metadata": {
    "toc-hr-collapsed": false
   },
   "source": [
    "# 広告効果の単純比較"
   ]
  },
  {
   "cell_type": "markdown",
   "metadata": {},
   "source": [
    "## 問題設定\n",
    "- バナー広告Aとバナー広告Bの効果を比較する\n",
    "- AとBのバナーは広告する商材は一緒だが、クリエイティブ（バナー広告のデザイン）が異なるものとする\n",
    "- バナーAは長期間配信しているものだが、バナーBは最近新たな施策の結果として作られた新しいバナーである\n",
    "- 広告効果はクリック率（CTR）の大小で比較する。つまり、バナーAとBそれぞれの**CTRを推定**する問題となる。"
   ]
  },
  {
   "cell_type": "markdown",
   "metadata": {},
   "source": [
    "## モデル設定\n",
    "- Clickイベントはバナー広告毎に、ある確率$\\theta_{A} or \\theta_{B}$で発生すると仮定\n",
    "  - 訪問者それぞれのクリック有無は独立で、訪問者それぞれに特性は無いと仮定する（i.i.d:独立同分布）\n",
    "- ユーザとクリック有無それぞれは独立と仮定するため、ベルヌーイ分布で表現できる\n",
    "\n",
    "$\n",
    "f(x|\\theta) = \\theta^{x}(1-\\theta)^{1-x}\n",
    "$\n",
    "\n",
    "- バナー広告A、Bのクリック確率（$\\theta_A, \\theta_B$）を推定することが目的となる"
   ]
  },
  {
   "cell_type": "markdown",
   "metadata": {},
   "source": [
    "## データの生成\n",
    "- バナー広告がクリックされたか否かはベルヌーイ分布に従うと仮定（i.i.d）"
   ]
  },
  {
   "cell_type": "code",
   "execution_count": null,
   "metadata": {},
   "outputs": [],
   "source": [
    "# 乱数シードの設定\n",
    "np.random.seed(25) # 25\n",
    "\n",
    "# 真のクリック率の設定（この値を推定したい）\n",
    "p_a_true = 0.010 # 0.010\n",
    "p_b_true = 0.015 # 0.015\n",
    "\n",
    "# 訪問者數\n",
    "N_a = 1000 # 1000\n",
    "N_b = 100 # 100\n",
    "\n",
    "# シミュレーション\n",
    "click_a = stats.bernoulli(p=p_a_true).rvs(size=N_a)\n",
    "click_b = stats.bernoulli(p=p_b_true).rvs(size=N_b)\n",
    "\n",
    "# データを確認\n",
    "summary = pd.DataFrame(\n",
    "    {\n",
    "        'access':[len(click_a), len(click_b)], \n",
    "        'click_num':[np.sum(click_a), np.sum(click_b)], \n",
    "        'freq':[np.mean(click_a), np.mean(click_b)], \n",
    "        'true_p':[p_a_true, p_b_true]\n",
    "    }, \n",
    "    index=['A', 'B']\n",
    ")\n",
    "summary"
   ]
  },
  {
   "cell_type": "markdown",
   "metadata": {},
   "source": [
    "## 最尤推定でのCTR推定\n",
    "- バナーA,BのCTRを推定するために、単純に頻度を算出するケースが多い\n",
    "- これは、Clickイベントをベルヌーイ分布（または、二項分布）と仮定した場合の最尤推定量と一致する\n",
    "  - モデル（ベルヌーイ分布）\n",
    "    - x:クリック有無{0,1}\n",
    "    - $\\theta$:クリック確率\n",
    "  $$\n",
    "  f(x|\\theta) = \\theta^{x}(1-\\theta)^{1-x}\n",
    "  $$\n",
    "  - 尤度関数$L(\\theta|X)$の最大化\n",
    "$$\n",
    "L(\\theta|X)=\\prod^{N}_{i=1}{f(x_i|\\theta)} = \\prod^{N}_{i=1}\\theta^{x_i}(1-\\theta)^{1-x_i} \\\\\n",
    "\\log{L(\\theta|X)} = \\sum^{N}_{i=1}{x_i\\log{\\theta}+(1-x_i)\\log{(1-\\theta)} } \\\\\n",
    "\\qquad = m\\log{\\theta} + (N-m)\\log{{1-\\theta}}\n",
    "$$\n",
    "\n",
    "微分して0となるパラメータ\n",
    "\n",
    "$$\n",
    "\\frac{d\\log{L(\\theta|X)}}{d\\theta} = 0 \\\\\n",
    "\\hat{\\theta} = \\frac{m}{N}\n",
    "$$\n",
    "\n",
    "ということで、長々と数式を展開してきたが、結局は標本平均となる。\n"
   ]
  },
  {
   "cell_type": "code",
   "execution_count": null,
   "metadata": {},
   "outputs": [],
   "source": [
    "# 上記の集計ですでに計算していたので\n",
    "summary"
   ]
  },
  {
   "cell_type": "code",
   "execution_count": null,
   "metadata": {},
   "outputs": [],
   "source": [
    "# 真のクリック確率（設定値）と推定値のプロット\n",
    "\n",
    "fig = plt.figure(figsize=(12, 5))\n",
    "ax = fig.subplots(1, 1)\n",
    "\n",
    "cs = ['#FF4500', '#0000FF', '#00F1A1']\n",
    "cnt=0\n",
    "for idx in summary.index:\n",
    "    ax.vlines(summary.loc[idx, 'freq'], 0, 1, colors=cs[cnt%len(cs)], label='MLE_{}'.format(idx))\n",
    "    ax.vlines(summary.loc[idx, 'true_p'], 0, 1, colors=cs[cnt%len(cs)], linestyle='dashed', label='True_{}'.format(idx))\n",
    "    cnt+=1\n",
    "ax.set_xlim((0.0, 0.05))\n",
    "ax.set_xlabel('$\\\\theta$')\n",
    "ax.legend()"
   ]
  },
  {
   "cell_type": "code",
   "execution_count": null,
   "metadata": {},
   "outputs": [],
   "source": [
    "# 推定値の差分。正の値であれば広告Bの方がクリック率が高いと推定\n",
    "print('difference between B and A : {}'.format(summary.loc['B', 'freq']-summary.loc['A', 'freq']))"
   ]
  },
  {
   "cell_type": "markdown",
   "metadata": {},
   "source": [
    "## 広告効果の比較まとめ\n",
    "最尤推定（頻度）で広告効果を推定した。\n",
    "\n",
    "その結果は想定したものであっただろうか？\n",
    "\n",
    "単純に頻度を比較するだけでは、このような問題が生じている可能性がある。"
   ]
  },
  {
   "cell_type": "markdown",
   "metadata": {},
   "source": [
    "## 課題\n",
    "この結果は設定した真の値(p_a_true, p_b_true)と比較してどうなっているだろうか？\n",
    "\n",
    "- p_true, Nを変えながら結果を考察してみる"
   ]
  },
  {
   "cell_type": "markdown",
   "metadata": {
    "toc-hr-collapsed": false
   },
   "source": [
    "# ベイズ推定による広告効果の比較\n",
    "- 最尤推定による推定結果はデータに強く依存し、特にデータ数が少ない場合にはデータに過度に適合してしまう（過適合, over-fitting）\n",
    "- 差を比較したいが、その差に意味がある差なのか直感的にわかりにくい\n",
    "- そこで、ベイズ推定によって広告A,Bの効果を推定し、その差を比較してみる"
   ]
  },
  {
   "cell_type": "markdown",
   "metadata": {},
   "source": [
    "## ベイズ推定でのCTR推定\n",
    "- ベイズの式\n",
    "    - $p(\\theta | x) \\propto p(x | \\theta)p(\\theta)$\n",
    "    - x : バナー広告をn回表示した結果のクリック数\n",
    "    - $\\theta$ : 確率分布のパラメータ（バナー広告のクリック確率）\n",
    "    - 尤度$p(x | \\theta)$と事前分布$p(\\theta)$を設定する必要がある\n",
    "- 尤度関数\n",
    "    - 二項分布\n",
    "    - $p(x | \\theta) = \\binom{n}{x}\\theta^x(1-\\theta)^{N-x}$\n",
    "- 事前分布\n",
    "    - ベータ分布\n",
    "    - $p(\\theta) = \\frac{\\Gamma(\\alpha + \\beta)}{\\Gamma(\\alpha)\\Gamma(\\beta)}\\theta^{\\alpha-1}(1-\\theta)^{\\beta-1}$\n"
   ]
  },
  {
   "cell_type": "markdown",
   "metadata": {},
   "source": [
    "### ベータ分布\n",
    "- 二項分布の共役事前分布という性質の他、扱いやすい特徴を持っている\n",
    "  - 値域が0~1の範囲なので確率を扱うのに都合が良い\n",
    "  - αとβの値によって様々な形状の分布を表現できる\n",
    "\n",
    "ベータ分布の形状を確認してみる"
   ]
  },
  {
   "cell_type": "code",
   "execution_count": null,
   "metadata": {},
   "outputs": [],
   "source": [
    "params = [0.1, 1, 2, 10] # alpha, betaの例\n",
    "\n",
    "x = np.linspace(0, 1, 100) # x軸の設定\n",
    "\n",
    "fig = plt.figure(figsize=(13, 10))\n",
    "ax = fig.subplots(len(params), len(params), sharex=True, sharey=True)\n",
    "cnt=0\n",
    "for i in range(len(params)):\n",
    "    for j in range(len(params)):\n",
    "        # パラメータalphaとbetaを設定\n",
    "        a = params[i]\n",
    "        b = params[j]\n",
    "        # ベータ分布の確率密度を計算\n",
    "        y = stats.beta(a, b).pdf(x)\n",
    "        # plot\n",
    "        ax[i, j].plot(x, y)\n",
    "        ax[i, j].plot(0, 0, label=\"$\\\\alpha$ = {:3.2f}\\n$\\\\beta$ = {:3.2f}\".format(a, b), alpha=0)\n",
    "        ax[i, j].legend()\n",
    "        if i == (len(params)-1):\n",
    "            ax[i,j].set_xlabel('$\\\\theta$')\n",
    "        if j == 0:\n",
    "            ax[i,j].set_ylabel('$p(\\\\theta)$')"
   ]
  },
  {
   "cell_type": "markdown",
   "metadata": {},
   "source": [
    "### ベイズ推定によるパラメータ推定\n",
    "- MCMCアルゴリズムの実行はPythonのライブラリであるPyMC3を利用する"
   ]
  },
  {
   "cell_type": "code",
   "execution_count": null,
   "metadata": {},
   "outputs": [],
   "source": [
    "# データの整理\n",
    "p_trues = [p_a_true, p_b_true]\n",
    "clicks = [click_a, click_b]\n",
    "n_imps = summary['access'].values\n",
    "n_clicks = summary['click_num'].values\n",
    "banners = summary.index.values\n",
    "banner_idx = np.arange(0, len(banners))"
   ]
  },
  {
   "cell_type": "code",
   "execution_count": null,
   "metadata": {},
   "outputs": [],
   "source": [
    "# MCMCアルゴリズムの実行\n",
    "n_sample = 1000\n",
    "\n",
    "with pm.Model() as model_banner_effect:\n",
    "    # prior\n",
    "    theta = pm.Beta('theta', alpha=1, beta=1, shape=len(banners))\n",
    "    # Likelihood\n",
    "    y = pm.Binomial('y', n=n_imps[banner_idx], p=theta[banner_idx], observed=n_clicks[banner_idx])\n",
    "    # sample\n",
    "    trace_banner = pm.sample(n_sample, chains=3)\n",
    "\n",
    "pm.traceplot(trace_banner)"
   ]
  },
  {
   "cell_type": "code",
   "execution_count": null,
   "metadata": {},
   "outputs": [],
   "source": [
    "# 事後分布の確認\n",
    "fig = plt.figure(figsize=(12, 3*2))\n",
    "ax = fig.subplots(2, 1, sharex=True)\n",
    "\n",
    "bins = np.linspace(0, 0.1, 100)\n",
    "for i in banner_idx:\n",
    "    ret = sns.distplot(trace_banner['theta'][:,i], bins=bins, ax=ax[i], label='posterior')\n",
    "    ax[i].vlines(p_trues[i], ret.get_ylim()[0], ret.get_ylim()[1], color='red', label='p_true')\n",
    "    ax[i].vlines(clicks[i].mean(), ret.get_ylim()[0], ret.get_ylim()[1], color='blue', label='p_MLE')\n",
    "    ax[i].set_ylabel('Banner {}'.format(banners[i]))\n",
    "    ax[i].legend()"
   ]
  },
  {
   "cell_type": "markdown",
   "metadata": {},
   "source": [
    "## CTRの差を確認\n",
    "- 事後分布を並べただけでは二つの広告のCTRに差があるのか見えにくい\n",
    "- 差の分布を確認する\n",
    "  - 関数の差をとる必要があるが、サンプルした結果があるため、サンプル間の差の分布を見れば良い"
   ]
  },
  {
   "cell_type": "code",
   "execution_count": null,
   "metadata": {},
   "outputs": [],
   "source": [
    "theta_diff = trace_banner['theta'][:, 1] - trace_banner['theta'][:, 0]\n",
    "\n",
    "fig = plt.figure(figsize=(12, 5))\n",
    "ax = fig.subplots(1, 1)\n",
    "\n",
    "ret = sns.distplot(theta_diff, ax=ax)\n",
    "ax.vlines((p_trues[1] - p_trues[0]), 0, ret.get_ylim()[1], color='red', label='diff_true')\n",
    "ax.vlines(0.0, 0, ret.get_ylim()[1], linestyle='dashed')\n",
    "ax.legend()\n",
    "ax.set_title('Banner B - A')\n",
    "\n",
    "print('Banner B is WORTH than A ;', (theta_diff < 0).mean())\n",
    "print('Banner B is BETTER than A ;', (theta_diff > 0).mean())\n",
    "#pm.plot_posterior(theta_diff)"
   ]
  },
  {
   "cell_type": "markdown",
   "metadata": {},
   "source": [
    "## ベイズ推定による広告効果比較のまとめ\n",
    "\n",
    "ここまでで、バナーA,Bの効果を推定し、差を評価してみた。\n",
    "\n",
    "最尤指定量では、単純にバナーAの方が効果が高いと出てしまったが、データ量を考慮して事後分布を推定したところ、バナーBの方が効果が高い可能性がありそうなことがわかった。\n",
    "\n",
    "しかし、手元にあるデータでは、その差はほとんど見えてこなかった。\n"
   ]
  },
  {
   "cell_type": "markdown",
   "metadata": {},
   "source": [
    "## 課題\n",
    "- このような結果が出た場合にどのような意思決定をするべきだろうか？\n",
    "  - 各バナーの事後分布の形状（広がり）に注目するとわかりやすい"
   ]
  },
  {
   "cell_type": "markdown",
   "metadata": {
    "toc-hr-collapsed": false
   },
   "source": [
    "# ベイズ的A/Bテスト\n",
    "- ここまでは、バナー広告のCTRを推定をすることで、どのバナーが効果が高いのかを分析してきた\n",
    "- ここまでの結果を持って、どちらのバナー広告に力を入れるかと言う意思決定ができるかもしれない\n",
    "- ここからは、A/Bテストの結果の分析について一歩踏み込んだ分析を行う"
   ]
  },
  {
   "cell_type": "markdown",
   "metadata": {},
   "source": [
    "## CTR増加量を求める\n",
    "- ここまでは、バナーA,Bでどちらが有効かについて分析を行った\n",
    "- 「どちらのバナーが有効か」についてはわかったが、配信を変更することで「どのくらい増加するのか？」については、明確な回答を示せていない（事後分布で結果を示しているため）\n",
    "- CTRがいくら増加するのかを見積もってみる"
   ]
  },
  {
   "cell_type": "markdown",
   "metadata": {},
   "source": [
    "### よくあるやり方\n",
    "バナーAからBへ変更した結果、CTRの増加量がどのくらいになりそうかとの課題について、通常は以下のような増加量を算出するであろう\n",
    "\n",
    "$\n",
    "rift_{AB} = \\frac{\\hat{p}_B - \\hat{p}_A}{\\hat{p}_A}\n",
    "$\n",
    "\n",
    "ここで、$\\hat{p}$はバナー広告AまたはBのクリック確率の（点）推定値。\n",
    "最尤推定での推定結果や、ベイズ推定後の事後分布のMAPや期待値などの点推定結果。"
   ]
  },
  {
   "cell_type": "code",
   "execution_count": null,
   "metadata": {},
   "outputs": [],
   "source": [
    "# 事後分布の期待値（平均）を使って増加量を計算してみる\n",
    "print('predicted click rate (banner A) : {}'.format(trace_banner['theta'][:, 0].mean()))\n",
    "print('predicted click rate (banner B) : {}'.format(trace_banner['theta'][:, 1].mean()))\n",
    "rift_point = (trace_banner['theta'][:, 1].mean() - trace_banner['theta'][:, 0].mean())/(trace_banner['theta'][:, 0].mean())\n",
    "print('rift value (A -> B, point_estimation) : {}'.format(rift_point))"
   ]
  },
  {
   "cell_type": "markdown",
   "metadata": {},
   "source": [
    "しかしこのやり方は深刻な問題を引き起こす場合がある。\n",
    "$\\hat{p}$が小さい場合、上記の値はすごく大きな値になることがある。  \n",
    "（効果試算の結果300%向上みたいな結果、素直に信じますか？）  \n",
    "これは、バナー広告を入れ替えた後の効果測定の際にも同じことが言える。\n",
    "\n",
    "推定値の不確実性(事後分布のばらつき)を含めて増加量を見積もる必要がある。"
   ]
  },
  {
   "cell_type": "markdown",
   "metadata": {},
   "source": [
    "### 事後分布を利用したやり方\n",
    "事後分布を利用した増加割合を計算するには、確率密度関数の比を取る必要がある。  \n",
    "しかし、事後分布の推定をサンプルベースの方法で行なっているため、サンプル間の増加量の分布を計算すれば良い。"
   ]
  },
  {
   "cell_type": "code",
   "execution_count": null,
   "metadata": {},
   "outputs": [],
   "source": [
    "rift_posterior = (trace_banner['theta'][:, 1] - trace_banner['theta'][:, 0])/trace_banner['theta'][:, 0]\n",
    "\n",
    "fig = plt.figure(figsize=(12, 5))\n",
    "ax = fig.subplots(1, 1)\n",
    "\n",
    "ret = sns.distplot(rift_posterior, ax=ax)\n",
    "ax.set_xlabel('rift value')\n",
    "\n",
    "print('rift value (A -> B, over 20% up):{}'.format((rift_posterior>0.2).mean()))\n",
    "print('rift value (A -> B, over 50% up):{}'.format((rift_posterior>0.5).mean()))"
   ]
  },
  {
   "cell_type": "markdown",
   "metadata": {},
   "source": [
    "20%向上する確率、50%向上する確率が出せた。"
   ]
  },
  {
   "cell_type": "markdown",
   "metadata": {},
   "source": [
    "信用区間を使って、増加量を見積もる（90%信用区間）。"
   ]
  },
  {
   "cell_type": "code",
   "execution_count": null,
   "metadata": {},
   "outputs": [],
   "source": [
    "alpha = 0.1\n",
    "rift_posterior_hpd = pm.hpd(rift_posterior, alpha=alpha)\n",
    "print('{}% HPD : {} ~ {}'.format((1.0-alpha)*100, rift_posterior_hpd[0], rift_posterior_hpd[1]))"
   ]
  },
  {
   "cell_type": "markdown",
   "metadata": {},
   "source": [
    "### CTR増加量を求めるのまとめ\n",
    "事後分布を利用し、不確実性を含めてバナーAからBに移行した場合のCTRの増加量を推定した。\n",
    "推定結果は、やはり分布で得られた。\n",
    "\n",
    "実際のシーンでは、分布で結果を提示するのではなく、点で定時する必要がある場合があるかもしれない。\n",
    "そのような時には、平均（期待値）や中央値、パーセンタイルなど分布を代表する値を示す。\n",
    "\n",
    "しかし、CTRのようなものは本質的に「真の値」なんてものは存在しない。\n",
    "そのため、必ず点推定の結果と実体はブレる。\n",
    "このことを認識してもらう努力は必要だと感じる。"
   ]
  },
  {
   "cell_type": "markdown",
   "metadata": {},
   "source": [
    "### 課題\n",
    "増加量を説明するための指標を算出し、それを上記の増加量の分布に追記してみる。"
   ]
  },
  {
   "cell_type": "markdown",
   "metadata": {},
   "source": [
    "## 期待収益を求める\n",
    "ここまでは、バナー広告のKPIとしてよく用いられるCTRについての考察をしてきた。  \n",
    "次は、広告をClickしてもらったことで得られる期待収益について分析してみる。"
   ]
  },
  {
   "cell_type": "markdown",
   "metadata": {},
   "source": [
    "### 問題設定\n",
    "- バナー広告A,Bについて、それぞれのクリック率とその後の商品ページのコンバージョン率とその期待収益を合わせてA,Bの比較をする"
   ]
  },
  {
   "cell_type": "markdown",
   "metadata": {},
   "source": [
    "### データ生成\n",
    "- バナー広告の効果試算の結果から、さらにデータを収集したと仮定\n",
    "- 合わせて商品購入ページにおけるデータも収集したと仮定"
   ]
  },
  {
   "cell_type": "code",
   "execution_count": null,
   "metadata": {},
   "outputs": [],
   "source": [
    "# クリックデータの生成\n",
    "\n",
    "# 乱数シードの設定\n",
    "np.random.seed(25) # 25\n",
    "\n",
    "# 真のクリック率の設定\n",
    "p_a_true = 0.010 # 0.010\n",
    "p_b_true = 0.015 # 0.015\n",
    "\n",
    "# 訪問者數\n",
    "N_a = 10000 # 10000\n",
    "N_b = 15000 # 15000\n",
    "\n",
    "# シミュレーション\n",
    "click_a = stats.bernoulli(p=p_a_true).rvs(size=N_a)\n",
    "click_b = stats.bernoulli(p=p_b_true).rvs(size=N_b)\n",
    "\n",
    "summary = pd.DataFrame(\n",
    "    {\n",
    "        'access':[len(click_a), len(click_b)], \n",
    "        'click_num':[np.sum(click_a), np.sum(click_b)], \n",
    "        'freq':[np.mean(click_a), np.mean(click_b)], \n",
    "        'true_p':[p_a_true, p_b_true]\n",
    "    }, \n",
    "    index=['A', 'B']\n",
    ")\n",
    "summary"
   ]
  },
  {
   "cell_type": "code",
   "execution_count": null,
   "metadata": {},
   "outputs": [],
   "source": [
    "# 商品ページにおける成約数の設定\n",
    "\n",
    "# AのCV設定\n",
    "N_A = 99\n",
    "N_A_1 = 2\n",
    "N_A_2 = 8\n",
    "N_A_3 = 20\n",
    "N_A_0 = N_A - (N_A_1 + N_A_2 + N_A_3)\n",
    "obs_A = np.array([N_A_1, N_A_2, N_A_3, N_A_0])\n",
    "\n",
    "# BのCV設定\n",
    "N_B = 220\n",
    "N_B_1 = 2\n",
    "N_B_2 = 5\n",
    "N_B_3 = 20\n",
    "N_B_0 = N_B - (N_B_1 + N_B_2 + N_B_3)\n",
    "obs_B = np.array([N_B_1, N_B_2, N_B_3, N_B_0])\n",
    "\n",
    "# 各商品の売り上げ額の設定\n",
    "price = [7900, 4900, 2500, 0]"
   ]
  },
  {
   "cell_type": "markdown",
   "metadata": {},
   "source": [
    "### 商品成約率の計算\n",
    "- 商品は複数あるため、多項分布を考える\n",
    "  - 各商品の成約率は独立ではない（商品１の成約率が高ければ、他は下がる）\n",
    "- 事前分布には、多項分布の共役事前分布であるディリクレ分布を利用\n",
    "- MCMCの練習も兼ねてPyMCを利用した数値解を求めているが、共役事前分布のため、ディリクレ分布から直接サンプルしても良い（というかそっちの方が速い）"
   ]
  },
  {
   "cell_type": "code",
   "execution_count": null,
   "metadata": {},
   "outputs": [],
   "source": [
    "n_sample = 1000\n",
    "prior_parameter = np.array([1, 1, 1, 1])\n",
    "with pm.Model() as model:\n",
    "    mu = pm.Dirichlet('mu', a=prior_parameter)\n",
    "    cv = pm.Multinomial('cv', n=N_A, p=mu, observed=obs_A)\n",
    "    trace_A = pm.sample(n_sample, chains=3)\n",
    "\n",
    "prior_parameter = np.array([1, 1, 1, 1])\n",
    "with pm.Model() as model:\n",
    "    mu = pm.Dirichlet('mu', a=prior_parameter)\n",
    "    cv = pm.Multinomial('cv', n=N_B, p=mu, observed=obs_B)\n",
    "    trace_B = pm.sample(n_sample, chains=3)"
   ]
  },
  {
   "cell_type": "code",
   "execution_count": null,
   "metadata": {},
   "outputs": [],
   "source": [
    "fig = plt.figure(figsize=(12, 3*2))\n",
    "ax = fig.subplots(2, 1, sharex=True)\n",
    "\n",
    "for i in np.arange(trace_A['mu'].shape[1]):\n",
    "    l = 'item_{}'.format(i+1)\n",
    "    if i == trace_A['mu'].shape[1]-1:\n",
    "        l = 'leave'\n",
    "    sns.distplot(trace_A['mu'][:,i], ax=ax[0], label=l)\n",
    "ax[0].set_ylabel('from banner A')\n",
    "ax[0].legend()\n",
    "for i in np.arange(trace_B['mu'].shape[1]):\n",
    "    l = 'item_{}'.format(i+1)\n",
    "    if i == trace_B['mu'].shape[1]-1:\n",
    "        l = 'leave'\n",
    "    sns.distplot(trace_B['mu'][:,i], ax=ax[1], label=l)\n",
    "ax[1].set_ylabel('from banner B')\n",
    "ax[1].legend()\n",
    "ax[1].set_xlabel('CV Rate')"
   ]
  },
  {
   "cell_type": "markdown",
   "metadata": {},
   "source": [
    "### 期待収益の計算"
   ]
  },
  {
   "cell_type": "code",
   "execution_count": null,
   "metadata": {},
   "outputs": [],
   "source": [
    "def expected_revenue(P, r=[7900, 4900, 2500, 0]):\n",
    "    samples, items = P.shape\n",
    "    reward = 0.0\n",
    "    for i in np.arange(items):\n",
    "        reward+=r[i]*P[:,i]\n",
    "    return reward\n",
    "\n",
    "r_A = price\n",
    "posterior_expected_r_A = expected_revenue(trace_A['mu'], r=r_A)\n",
    "\n",
    "r_B = price\n",
    "posterior_expected_r_B = expected_revenue(trace_B['mu'], r=r_B)\n",
    "\n",
    "fig = plt.figure(figsize=(8, 3))\n",
    "ax = fig.subplots(1, 1, sharex=True)\n",
    "sns.distplot(posterior_expected_r_A, label='A', ax=ax)\n",
    "sns.distplot(posterior_expected_r_B, label='B', ax=ax)\n",
    "ax.set_xlabel('Expected Reward')\n",
    "plt.legend()"
   ]
  },
  {
   "cell_type": "code",
   "execution_count": null,
   "metadata": {},
   "outputs": [],
   "source": [
    "# 収益差の事後分布\n",
    "reward_diff = posterior_expected_r_A - posterior_expected_r_B\n",
    "\n",
    "print('probability A > B :', (reward_diff>0).mean())\n",
    "\n",
    "fig = plt.figure(figsize=(8, 3))\n",
    "ax = fig.subplots(1, 1)\n",
    "sns.distplot(reward_diff, ax=ax)\n",
    "ax.set_xlabel('Difference of Reward')\n"
   ]
  },
  {
   "cell_type": "markdown",
   "metadata": {},
   "source": [
    "### クリック確率の推定"
   ]
  },
  {
   "cell_type": "code",
   "execution_count": null,
   "metadata": {},
   "outputs": [],
   "source": [
    "# CTRの推定\n",
    "p_trues = [p_a_true, p_b_true]\n",
    "clicks = [click_a, click_b]\n",
    "n_imps = summary['access'].values\n",
    "n_clicks = summary['click_num'].values\n",
    "banners = summary.index.values\n",
    "banner_idx = np.arange(0, len(banners))\n",
    "\n",
    "n_sample = 1000\n",
    "with pm.Model() as model_banner_effect:\n",
    "    # prior\n",
    "    theta = pm.Beta('theta', alpha=1, beta=1, shape=len(banners))\n",
    "    # Likelihood\n",
    "    y = pm.Binomial('y', n=n_imps[banner_idx], p=theta[banner_idx], observed=n_clicks[banner_idx])\n",
    "    # sample\n",
    "    trace_banner = pm.sample(n_sample, chains=3)\n",
    "\n",
    "fig = plt.figure(figsize=(12, 3*2))\n",
    "ax = fig.subplots(2, 1, sharex=True)\n",
    "bins = np.linspace(0, 0.04, 100)\n",
    "for i in banner_idx:\n",
    "    ret = sns.distplot(trace_banner['theta'][:,i], bins=bins, ax=ax[i], label='posterior')\n",
    "    ax[i].vlines(p_trues[i], ret.get_ylim()[0], ret.get_ylim()[1], color='red', label='p_true')\n",
    "    ax[i].vlines(clicks[i].mean(), ret.get_ylim()[0], ret.get_ylim()[1], color='blue', label='p_MLE')\n",
    "    ax[i].set_ylabel('Banner {}'.format(banners[i]))\n",
    "    ax[i].legend()\n",
    "ax[1].set_xlabel('Click Rate')"
   ]
  },
  {
   "cell_type": "markdown",
   "metadata": {},
   "source": [
    "### クリック確率と期待収益を合わせる"
   ]
  },
  {
   "cell_type": "code",
   "execution_count": null,
   "metadata": {},
   "outputs": [],
   "source": [
    "access_rev_A = posterior_expected_r_A * trace_banner['theta'][:,0]\n",
    "access_rev_B = posterior_expected_r_B * trace_banner['theta'][:,1]\n",
    "\n",
    "fig = plt.figure(figsize=(8, 4))\n",
    "ax = fig.subplots(1, 1)\n",
    "\n",
    "bins=np.linspace(0, 50, 51)\n",
    "ax.hist(access_rev_A, label='A', bins=bins, alpha=0.5)\n",
    "ax.hist(access_rev_B, label='B', bins=bins, alpha=0.5)\n",
    "ax.legend()\n",
    "ax.set_xlabel('Expected Reward')"
   ]
  },
  {
   "cell_type": "code",
   "execution_count": null,
   "metadata": {},
   "outputs": [],
   "source": [
    "fig = plt.figure(figsize=(8, 4))\n",
    "ax = fig.subplots(1, 1)\n",
    "\n",
    "ax.hist(access_rev_A-access_rev_B)"
   ]
  },
  {
   "cell_type": "markdown",
   "metadata": {},
   "source": [
    "### 期待収益の算出のまとめ\n",
    "- 期待収益を算出するために、各商品の成約率を推定した\n",
    "- 商品は複数あるため、多項分布とディリクレ分布を使って推定を行った\n"
   ]
  },
  {
   "cell_type": "markdown",
   "metadata": {},
   "source": [
    "### 課題\n",
    "- CV設定やクリック設定を色々変えてどのように変わるかを確認してみる"
   ]
  },
  {
   "cell_type": "code",
   "execution_count": null,
   "metadata": {},
   "outputs": [],
   "source": []
  }
 ],
 "metadata": {
  "kernelspec": {
   "display_name": "Python 3",
   "language": "python",
   "name": "python3"
  },
  "language_info": {
   "codemirror_mode": {
    "name": "ipython",
    "version": 3
   },
   "file_extension": ".py",
   "mimetype": "text/x-python",
   "name": "python",
   "nbconvert_exporter": "python",
   "pygments_lexer": "ipython3",
   "version": "3.7.3"
  },
  "toc-autonumbering": true
 },
 "nbformat": 4,
 "nbformat_minor": 2
}
